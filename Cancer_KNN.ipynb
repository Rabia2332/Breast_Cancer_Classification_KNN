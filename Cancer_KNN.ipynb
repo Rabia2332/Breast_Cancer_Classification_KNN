{
 "cells": [
  {
   "attachments": {},
   "cell_type": "markdown",
   "metadata": {},
   "source": [
    "### Load Libraries"
   ]
  },
  {
   "cell_type": "code",
   "execution_count": 3,
   "metadata": {},
   "outputs": [],
   "source": [
    "import pandas as pd\n",
    "import matplotlib.pyplot as plt\n",
    "import numpy as np\n",
    "import seaborn as sns"
   ]
  },
  {
   "cell_type": "code",
   "execution_count": 4,
   "metadata": {},
   "outputs": [],
   "source": [
    "df = pd.read_csv(\"data.csv\")"
   ]
  },
  {
   "cell_type": "code",
   "execution_count": null,
   "metadata": {},
   "outputs": [],
   "source": [
    "df.head(5)"
   ]
  },
  {
   "cell_type": "code",
   "execution_count": null,
   "metadata": {},
   "outputs": [],
   "source": [
    "df.tail(5)"
   ]
  },
  {
   "cell_type": "code",
   "execution_count": null,
   "metadata": {},
   "outputs": [],
   "source": [
    "df.info()"
   ]
  },
  {
   "cell_type": "code",
   "execution_count": null,
   "metadata": {},
   "outputs": [],
   "source": [
    "df.describe()"
   ]
  },
  {
   "cell_type": "code",
   "execution_count": null,
   "metadata": {},
   "outputs": [],
   "source": [
    "df.shape"
   ]
  },
  {
   "attachments": {},
   "cell_type": "markdown",
   "metadata": {},
   "source": [
    "### Data Cleaning"
   ]
  },
  {
   "cell_type": "markdown",
   "metadata": {},
   "source": []
  },
  {
   "cell_type": "code",
   "execution_count": null,
   "metadata": {},
   "outputs": [],
   "source": [
    "df.isnull().sum()"
   ]
  },
  {
   "cell_type": "code",
   "execution_count": null,
   "metadata": {},
   "outputs": [],
   "source": [
    "# Drop Unnecessary columns\n",
    "df.drop([\"Unnamed: 32\",\"id\"],axis=1,inplace=True)"
   ]
  },
  {
   "cell_type": "code",
   "execution_count": null,
   "metadata": {},
   "outputs": [],
   "source": [
    "df"
   ]
  },
  {
   "cell_type": "code",
   "execution_count": null,
   "metadata": {},
   "outputs": [],
   "source": [
    "# data shape:\n",
    "row, columns = df.shape\n",
    "print(\"Data Row:\", row)\n",
    "print(\"Data Columns:\", columns)"
   ]
  },
  {
   "cell_type": "code",
   "execution_count": null,
   "metadata": {},
   "outputs": [],
   "source": [
    "# column names:\n",
    "df.columns"
   ]
  },
  {
   "cell_type": "code",
   "execution_count": null,
   "metadata": {},
   "outputs": [],
   "source": [
    "# descriptions \n",
    "display(df.describe().T)"
   ]
  },
  {
   "cell_type": "code",
   "execution_count": null,
   "metadata": {},
   "outputs": [],
   "source": [
    "df.describe()"
   ]
  },
  {
   "cell_type": "code",
   "execution_count": null,
   "metadata": {},
   "outputs": [],
   "source": [
    "# Map 'M' to 1.0 and 'B' to 0.0 in the 'diagnosis' column\n",
    "df['diagnosis'] = df['diagnosis'].map({'M': 1.0, 'B': 0.0})\n",
    "\n",
    "# Convert the 'diagnosis' column to float data type\n",
    "df['diagnosis'] = df['diagnosis'].astype(float)"
   ]
  },
  {
   "cell_type": "code",
   "execution_count": null,
   "metadata": {},
   "outputs": [],
   "source": [
    "#### Also do the same thing by using LabelEncoder\n",
    "from sklearn.preprocessing import LabelEncoder\n",
    "\n",
    "# Create a label encoder instance\n",
    "label_encoder = LabelEncoder()\n",
    "\n",
    "# Encode the 'diagnosis' column\n",
    "df['diagnosis_encoded'] = label_encoder.fit_transform(df['diagnosis'])"
   ]
  },
  {
   "attachments": {},
   "cell_type": "markdown",
   "metadata": {},
   "source": [
    "#### Data Visualization"
   ]
  },
  {
   "attachments": {},
   "cell_type": "markdown",
   "metadata": {},
   "source": [
    "###### The code calculates the correlation matrix using df.corr() and then creates a clustermap using sns.clustermap() to visualize the correlations between features. The clustermap clusters the rows and columns based on their correlation similarity. The annot=True argument displays the correlation values on the heatmap, and fmt=\".2f\" formats the values to two decimal places. The clustermap's size is set to (20, 14) for better readability, and the title of the clustermap is set to \"Correlation Between Features\" using plt.title()."
   ]
  },
  {
   "cell_type": "code",
   "execution_count": null,
   "metadata": {},
   "outputs": [],
   "source": [
    "# Calculate the correlation matrix\n",
    "corr_matrix = df.corr()\n",
    "\n",
    "# Create a clustermap to visualize the correlation matrix\n",
    "sns.clustermap(corr_matrix, annot=True, fmt=\".2f\", figsize=(20, 14))\n",
    "\n",
    "# Set the title of the clustermap\n",
    "plt.title(\"Correlation Between Features\")\n"
   ]
  },
  {
   "attachments": {},
   "cell_type": "markdown",
   "metadata": {},
   "source": [
    "### Exploratory data analysis (EDA) using Klib Library"
   ]
  },
  {
   "cell_type": "code",
   "execution_count": null,
   "metadata": {},
   "outputs": [],
   "source": [
    "import klib"
   ]
  },
  {
   "cell_type": "code",
   "execution_count": null,
   "metadata": {},
   "outputs": [],
   "source": [
    "klib.corr_mat(df) "
   ]
  },
  {
   "cell_type": "code",
   "execution_count": null,
   "metadata": {},
   "outputs": [],
   "source": [
    "klib.corr_plot(df, figsize=(20,14))   # returns a color-encoded heatmap, ideal for correlations"
   ]
  },
  {
   "attachments": {},
   "cell_type": "markdown",
   "metadata": {},
   "source": [
    "## Data Visualization"
   ]
  },
  {
   "attachments": {},
   "cell_type": "markdown",
   "metadata": {},
   "source": [
    "#### Dtale"
   ]
  },
  {
   "cell_type": "code",
   "execution_count": null,
   "metadata": {},
   "outputs": [],
   "source": [
    "import dtale"
   ]
  },
  {
   "cell_type": "code",
   "execution_count": null,
   "metadata": {},
   "outputs": [],
   "source": [
    "dtale.show(df)"
   ]
  },
  {
   "cell_type": "code",
   "execution_count": null,
   "metadata": {},
   "outputs": [],
   "source": [
    "unique_values = df['diagnosis'].nunique()\n",
    "print(\"Number of unique values in the 'diagnosis' column:\", unique_values)\n",
    "unique_diagnosis = df['diagnosis'].value_counts()\n",
    "print(\"Unique values in the 'diagnosis' column:\")\n",
    "print(unique_diagnosis)\n"
   ]
  },
  {
   "cell_type": "code",
   "execution_count": 107,
   "metadata": {},
   "outputs": [
    {
     "data": {
      "image/png": "[encoded data removed]",
      "text/plain": [
       "<Figure size 500x300 with 1 Axes>"
      ]
     },
     "metadata": {},
     "output_type": "display_data"
    }
   ],
   "source": [
    "# Calculate the counts of each diagnosis category\n",
    "diagnosis_counts = df['diagnosis'].value_counts()\n",
    "\n",
    "# Define the labels for the two diagnosis categories\n",
    "labels = ['Benign (B)', 'Malignant (M)']\n",
    "\n",
    "# Create a bar plot\n",
    "plt.figure(figsize=(5, 3))  # Set the figure size\n",
    "plt.title('Diagnosis status count')  # Set the title of the plot\n",
    "\n",
    "colors = ['blue', 'brown']\n",
    "plt.bar(labels, diagnosis_counts, edgecolor='k', width=0.4, color=colors)  # Create the bar plot\n",
    "\n",
    "# Create a custom legend\n",
    "legend_elements = [\n",
    "    plt.bar([0], [0], color=colors[0], label=labels[0]),  # Create a dummy bar for the first label\n",
    "    plt.bar([0], [0], color=colors[1], label=labels[1])  # Create a dummy bar for the second label\n",
    "]\n",
    "\n",
    "plt.legend(handles=legend_elements, title=\"Diagnosis\")  # Add the legend with custom handles\n",
    "\n",
    "plt.show()  # Display the plot"
   ]
  },
  {
   "cell_type": "code",
   "execution_count": null,
   "metadata": {},
   "outputs": [],
   "source": [
    "# Calculate the counts of each diagnosis category\n",
    "diagnosis_counts = df['diagnosis'].value_counts()\n",
    "\n",
    "# Define the labels for the two diagnosis categories\n",
    "labels = ['Benign (B)', 'Malignant (M)']\n",
    "\n",
    "# Define the colors for the pie chart\n",
    "colors = ['blue', 'brown']\n",
    "\n",
    "# Create a figure and set the title\n",
    "plt.figure(figsize=(4, 4))\n",
    "plt.title('Diagnosis Distribution')\n",
    "\n",
    "# Create a pie chart with the diagnosis counts, labels, colors, and percentage format\n",
    "plt.pie(diagnosis_counts, labels=labels, colors=colors, autopct='%1.1f%%', startangle=90)\n",
    "\n",
    "# Set the aspect ratio to ensure the pie is drawn as a circle\n",
    "plt.axis('equal')\n",
    "\n",
    "# Display the pie chart\n",
    "plt.show()\n"
   ]
  },
  {
   "attachments": {},
   "cell_type": "markdown",
   "metadata": {},
   "source": [
    "## Data Training"
   ]
  },
  {
   "attachments": {},
   "cell_type": "markdown",
   "metadata": {},
   "source": [
    "###### In this code, the df DataFrame is split into the feature matrix x (containing all columns except the last one) and the target variable y (containing only the last column). Then, the train_test_split function is used to split the data into training and test sets. The test_size parameter is set to 0.2, indicating that 20% of the data will be used for testing. The random_state parameter is set to 2020 for reproducibility. Finally, the shapes of the training and test sets are printed."
   ]
  },
  {
   "cell_type": "code",
   "execution_count": null,
   "metadata": {},
   "outputs": [],
   "source": [
    "# Select the features (input variables) by indexing all rows and columns except the last column\n",
    "x = df.iloc[:, 0:-1]\n",
    "\n",
    "# Select the target variable (diagnosis) by indexing all rows and the last column\n",
    "y = df.iloc[:, -1]\n"
   ]
  },
  {
   "cell_type": "code",
   "execution_count": null,
   "metadata": {},
   "outputs": [],
   "source": [
    "from sklearn.model_selection import train_test_split\n",
    "x_train, x_test, y_train, y_test = train_test_split(x, y, test_size=0.2, random_state=2020)\n",
    "\n",
    "print('shape of x_train = ', x_train.shape)\n",
    "print('shape of y_train = ', y_train.shape)\n",
    "print('shape of x_test = ', x_test.shape)\n",
    "print('shape of y_test = ', y_test.shape)"
   ]
  },
  {
   "attachments": {},
   "cell_type": "markdown",
   "metadata": {},
   "source": [
    "###### In this code, we import the KNeighborsClassifier from scikit-learn. We create an instance of the classifier with n_neighbors=5, indicating that it should consider the 5 nearest neighbors for classification. Then, we fit the classifier to the training data using the fit method. Finally, we calculate the accuracy score of the classifier on the test data using the score method, and print the accuracy score."
   ]
  },
  {
   "cell_type": "code",
   "execution_count": null,
   "metadata": {},
   "outputs": [],
   "source": [
    "# Import the KNeighborsClassifier from scikit-learn\n",
    "from sklearn.neighbors import KNeighborsClassifier\n",
    "\n",
    "# Create an instance of the KNeighborsClassifier with 5 neighbors\n",
    "classifier = KNeighborsClassifier(n_neighbors=5)\n",
    "\n",
    "# Fit the classifier to the training data\n",
    "classifier.fit(x_train, y_train)\n",
    "\n",
    "# Calculate the accuracy score on the test data\n",
    "accuracy = classifier.score(x_test, y_test)\n",
    "\n",
    "# Print the accuracy score\n",
    "print('Accuracy:', accuracy)\n"
   ]
  },
  {
   "cell_type": "code",
   "execution_count": 91,
   "metadata": {},
   "outputs": [],
   "source": [
    "y_pred = classifier.predict(x_test)"
   ]
  },
  {
   "attachments": {},
   "cell_type": "markdown",
   "metadata": {},
   "source": [
    "## Predictions"
   ]
  },
  {
   "cell_type": "code",
   "execution_count": 99,
   "metadata": {},
   "outputs": [],
   "source": [
    "import pandas as pd\n",
    "# Define the patient data as a dictionary\n",
    "patient_Data = {\n",
    "    'diagnosis': [23.9],\n",
    "    'radius_mean': [17.99],\n",
    "    'texture_mean': [10.38],\n",
    "    'perimeter_mean': [122.8],\n",
    "    'area_mean': [1001.0],\n",
    "    'smoothness_mean': [0.1184],\n",
    "    'compactness_mean': [0.2776],\n",
    "    'concavity_mean': [0.3001],\n",
    "    'concave points_mean': [0.1471],\n",
    "    'symmetry_mean': [0.2419],\n",
    "    'fractal_dimension_mean': [0.07871],\n",
    "    'radius_se': [1.095],\n",
    "    'texture_se': [0.9053],\n",
    "    'perimeter_se': [8.589],\n",
    "    'area_se': [153.4],\n",
    "    'smoothness_se': [0.006399],\n",
    "    'compactness_se': [0.04904],\n",
    "    'concavity_se': [0.05373],\n",
    "    'concave points_se': [0.01587],\n",
    "    'symmetry_se': [0.03003],\n",
    "    'fractal_dimension_se': [0.006193],\n",
    "    'radius_worst': [25.38],\n",
    "    'texture_worst': [17.33],\n",
    "    'perimeter_worst': [184.6],\n",
    "    'area_worst': [2019.0],\n",
    "    'smoothness_worst': [0.1622],\n",
    "    'compactness_worst': [0.6656],\n",
    "    'concavity_worst': [0.7119],\n",
    "    'concave points_worst': [0.2654],\n",
    "    'symmetry_worst': [0.4601],\n",
    "    'fractal_dimension_worst': [0.1189]\n",
    "}\n",
    "\n",
    "# Create a DataFrame from the patient data\n",
    "patient1 = pd.DataFrame(patient_Data)\n"
   ]
  },
  {
   "cell_type": "code",
   "execution_count": 95,
   "metadata": {},
   "outputs": [
    {
     "data": {
      "text/html": [
       "<div>\n",
       "<style scoped>\n",
       "    .dataframe tbody tr th:only-of-type {\n",
       "        vertical-align: middle;\n",
       "    }\n",
       "\n",
       "    .dataframe tbody tr th {\n",
       "        vertical-align: top;\n",
       "    }\n",
       "\n",
       "    .dataframe thead th {\n",
       "        text-align: right;\n",
       "    }\n",
       "</style>\n",
       "<table border=\"1\" class=\"dataframe\">\n",
       "  <thead>\n",
       "    <tr style=\"text-align: right;\">\n",
       "      <th></th>\n",
       "      <th>diagnosis</th>\n",
       "      <th>radius_mean</th>\n",
       "      <th>texture_mean</th>\n",
       "      <th>perimeter_mean</th>\n",
       "      <th>area_mean</th>\n",
       "      <th>smoothness_mean</th>\n",
       "      <th>compactness_mean</th>\n",
       "      <th>concavity_mean</th>\n",
       "      <th>concave points_mean</th>\n",
       "      <th>symmetry_mean</th>\n",
       "      <th>...</th>\n",
       "      <th>radius_worst</th>\n",
       "      <th>texture_worst</th>\n",
       "      <th>perimeter_worst</th>\n",
       "      <th>area_worst</th>\n",
       "      <th>smoothness_worst</th>\n",
       "      <th>compactness_worst</th>\n",
       "      <th>concavity_worst</th>\n",
       "      <th>concave points_worst</th>\n",
       "      <th>symmetry_worst</th>\n",
       "      <th>fractal_dimension_worst</th>\n",
       "    </tr>\n",
       "  </thead>\n",
       "  <tbody>\n",
       "    <tr>\n",
       "      <th>0</th>\n",
       "      <td>23.9</td>\n",
       "      <td>17.99</td>\n",
       "      <td>10.38</td>\n",
       "      <td>122.8</td>\n",
       "      <td>1001.0</td>\n",
       "      <td>0.1184</td>\n",
       "      <td>0.2776</td>\n",
       "      <td>0.3001</td>\n",
       "      <td>0.1471</td>\n",
       "      <td>0.2419</td>\n",
       "      <td>...</td>\n",
       "      <td>25.38</td>\n",
       "      <td>17.33</td>\n",
       "      <td>184.6</td>\n",
       "      <td>2019.0</td>\n",
       "      <td>0.1622</td>\n",
       "      <td>0.6656</td>\n",
       "      <td>0.7119</td>\n",
       "      <td>0.2654</td>\n",
       "      <td>0.4601</td>\n",
       "      <td>0.1189</td>\n",
       "    </tr>\n",
       "  </tbody>\n",
       "</table>\n",
       "<p>1 rows × 31 columns</p>\n",
       "</div>"
      ],
      "text/plain": [
       "   diagnosis  radius_mean  texture_mean  perimeter_mean  area_mean   \n",
       "0       23.9        17.99         10.38           122.8     1001.0  \\\n",
       "\n",
       "   smoothness_mean  compactness_mean  concavity_mean  concave points_mean   \n",
       "0           0.1184            0.2776          0.3001               0.1471  \\\n",
       "\n",
       "   symmetry_mean  ...  radius_worst  texture_worst  perimeter_worst   \n",
       "0         0.2419  ...         25.38          17.33            184.6  \\\n",
       "\n",
       "   area_worst  smoothness_worst  compactness_worst  concavity_worst   \n",
       "0      2019.0            0.1622             0.6656           0.7119  \\\n",
       "\n",
       "   concave points_worst  symmetry_worst  fractal_dimension_worst  \n",
       "0                0.2654          0.4601                   0.1189  \n",
       "\n",
       "[1 rows x 31 columns]"
      ]
     },
     "execution_count": 95,
     "metadata": {},
     "output_type": "execute_result"
    }
   ],
   "source": [
    "patient1"
   ]
  },
  {
   "cell_type": "code",
   "execution_count": 105,
   "metadata": {},
   "outputs": [
    {
     "name": "stdout",
     "output_type": "stream",
     "text": [
      "1.00\n"
     ]
    }
   ],
   "source": [
    "predict =classifier.predict(patient1)\n",
    "print(f\"{predict[0]:.2f}\")"
   ]
  },
  {
   "cell_type": "code",
   "execution_count": 106,
   "metadata": {},
   "outputs": [
    {
     "name": "stdout",
     "output_type": "stream",
     "text": [
      "Patient has Cancer (malignant benign)\n"
     ]
    }
   ],
   "source": [
    "classifier.predict(patient1)\n",
    " \n",
    "pred = classifier.predict(patient1)\n",
    " \n",
    "if pred[0] == 0:\n",
    "  print('Patient has no Cancer (malignant tumor)')\n",
    "else:\n",
    "  print('Patient has Cancer (malignant benign)')"
   ]
  },
  {
   "cell_type": "code",
   "execution_count": null,
   "metadata": {},
   "outputs": [],
   "source": []
  },
  {
   "cell_type": "code",
   "execution_count": null,
   "metadata": {},
   "outputs": [],
   "source": [
    "#If we want to avoide the fil-up the numbers, we can use this line\n",
    "# Create a dictionary with random values for each column\n",
    "patient_data = {\n",
    "    column: [np.random.rand()] for column in df.columns[:-1]\n",
    "}\n",
    "\n",
    "# Create the DataFrame with the random values\n",
    "patient1 = pd.DataFrame(patient_data)\n",
    "\n",
    "# Predict the diagnosis\n",
    "prediction = classifier.predict(patient1)\n",
    "\n",
    "# Map the prediction to a diagnosis label\n",
    "diagnosis = 'Malignant' if prediction[0] == 1 else 'Benign'\n",
    "\n",
    "print(f\"Predicted diagnosis: {diagnosis}\")\n"
   ]
  },
  {
   "attachments": {
    "Screenshot 2023-03-22 125949.png": {
     "image/png": "[encoded data removed]"
    }
   },
   "cell_type": "markdown",
   "metadata": {},
   "source": [
    "![Screenshot 2023-03-22 125949.png](<attachment:Screenshot 2023-03-22 125949.png>)"
   ]
  },
  {
   "cell_type": "code",
   "execution_count": null,
   "metadata": {},
   "outputs": [],
   "source": [
    "from sklearn.metrics import mean_squared_error\n",
    "\n",
    "# Make predictions on the test set\n",
    "y_pred = classifier.predict(x_test)\n",
    "\n",
    "# Calculate the mean squared error\n",
    "mse = mean_squared_error(y_test, y_pred)\n",
    "\n",
    "print(\"Mean Squared Error:\", mse)\n"
   ]
  },
  {
   "cell_type": "code",
   "execution_count": null,
   "metadata": {},
   "outputs": [],
   "source": []
  }
 ],
 "metadata": {
  "kernelspec": {
   "display_name": "Python 3",
   "language": "python",
   "name": "python3"
  },
  "language_info": {
   "codemirror_mode": {
    "name": "ipython",
    "version": 3
   },
   "file_extension": ".py",
   "mimetype": "text/x-python",
   "name": "python",
   "nbconvert_exporter": "python",
   "pygments_lexer": "ipython3",
   "version": "3.11.2"
  },
  "orig_nbformat": 4
 },
 "nbformat": 4,
 "nbformat_minor": 2
}
